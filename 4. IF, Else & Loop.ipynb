{
 "cells": [
  {
   "cell_type": "code",
   "execution_count": null,
   "id": "f4e4cbdd",
   "metadata": {},
   "outputs": [],
   "source": [
    "if a < 15:\n",
    "    print(\"hi how are u\")"
   ]
  },
  {
   "cell_type": "code",
   "execution_count": null,
   "id": "88c220fa",
   "metadata": {},
   "outputs": [],
   "source": [
    "a =10"
   ]
  },
  {
   "cell_type": "code",
   "execution_count": null,
   "id": "c10f7e44",
   "metadata": {},
   "outputs": [],
   "source": [
    "income = 100\n",
    "if income < 50:\n",
    "    print(\"I will be able to buy a phone\")\n",
    "elif income < 70:\n",
    "    print(\"I will be able to buy a car\")\n",
    "elif income < 90:\n",
    "    print(\"I will be able to buy a house\")\n",
    "else:\n",
    "    print(\"I will buy nothing\")"
   ]
  },
  {
   "cell_type": "code",
   "execution_count": null,
   "id": "4f0f9b98",
   "metadata": {},
   "outputs": [],
   "source": [
    "income = int(input(\"Enter the Salary : \"))\n",
    "if income > 50:\n",
    "    print(\"I will be able to buy a phone\")\n",
    "elif income > 70:\n",
    "    print(\"I will be able to buy a car\")\n",
    "elif income > 90:\n",
    "    print(\"I will be able to buy a house\")\n",
    "else:\n",
    "    print(\"I will buy nothing\")"
   ]
  },
  {
   "cell_type": "code",
   "execution_count": null,
   "id": "845e74f6",
   "metadata": {},
   "outputs": [],
   "source": [
    "income = int(input(\"Enter the Salary : \"))\n",
    "if income < 50:\n",
    "    print(\"I will be able to buy a phone\")\n",
    "elif income < 70:\n",
    "    print(\"I will be able to buy a car\")\n",
    "elif income < 90:\n",
    "    print(\"I will be able to buy a house\")\n",
    "else:\n",
    "    print(\"I will buy nothing\")"
   ]
  },
  {
   "cell_type": "code",
   "execution_count": null,
   "id": "58124d3d",
   "metadata": {},
   "outputs": [],
   "source": [
    "total_price = int(input(\"Enter your price \"))\n",
    "if total_price > 2000:\n",
    "    discount = total_price * .20\n",
    "    print(\"Your Discount is 20% \", discount)\n",
    "elif total_price <=1500:\n",
    "    discount = total_price * .15\n",
    "    print(\"Your discount is 15% \",discount)\n",
    "elif total_price <=1200:\n",
    "    discount = total_price * .12\n",
    "    print(\"Your discount is 12% \", discount )\n",
    "else:\n",
    "    print(\"sorry u will not get any discount\")"
   ]
  },
  {
   "cell_type": "code",
   "execution_count": 10,
   "id": "330f9085",
   "metadata": {},
   "outputs": [
    {
     "name": "stdout",
     "output_type": "stream",
     "text": [
      "Enter your price 1600\n",
      "sorry u will not get any discount\n"
     ]
    }
   ],
   "source": [
    "total_price = int(input(\"Enter your price \"))\n",
    "if total_price > 2000:\n",
    "    discount = total_price * .20\n",
    "    print(\"Your Discount is 20% \", discount)\n",
    "elif total_price <=1500:\n",
    "    discount = total_price * .15\n",
    "    print(\"Your discount is 15% \",discount)\n",
    "elif total_price <=1200:\n",
    "    discount = total_price * .12\n",
    "    print(\"Your discount is 12% \", discount )\n",
    "else:\n",
    "    print(\"sorry u will not get any discount\")"
   ]
  },
  {
   "cell_type": "code",
   "execution_count": 12,
   "id": "02f7eba2",
   "metadata": {},
   "outputs": [
    {
     "name": "stdout",
     "output_type": "stream",
     "text": [
      "Enter your coupn code SUMAY\n",
      "You will get discount 5 %\n",
      "Enter your amount 100\n",
      "Your amount is 100 and discount is 5.0\n",
      "Thus total price is 95.0\n"
     ]
    }
   ],
   "source": [
    "coup = input(\"Enter your coupn code \")\n",
    "if coup == \"SUMAY\" or \"sumay\":\n",
    "    print(\"You will get discount 5 %\")\n",
    "    paid_amount = int(input(\"Enter your amount \"))\n",
    "    print(f\"Your amount is {paid_amount} and discount is {paid_amount*.05}\")\n",
    "    print(f\"Thus total price is {paid_amount - paid_amount*.05}\")\n",
    "else:\n",
    "    print(\"pls enter ur coupn code\")"
   ]
  },
  {
   "cell_type": "code",
   "execution_count": 60,
   "id": "dd4a982e",
   "metadata": {},
   "outputs": [
    {
     "name": "stdout",
     "output_type": "stream",
     "text": [
      "Enter the hours: 18\n",
      "it will take only 4 month\n"
     ]
    }
   ],
   "source": [
    "study_hours = int(input(\"Enter the hours: \"))\n",
    "if study_hours <= 2:\n",
    "    print(\"it may take more than 9 month\")\n",
    "elif study_hours <= 5 and study_hours > 2 :\n",
    "    print(\"it will take minimum 6 month\")\n",
    "elif study_hours > 5:\n",
    "    print(\"it will take only 4 month\")\n",
    "else:\n",
    "    print(\"It will be the difficult to complete\")"
   ]
  },
  {
   "cell_type": "code",
   "execution_count": 44,
   "id": "9177d094",
   "metadata": {},
   "outputs": [
    {
     "name": "stdout",
     "output_type": "stream",
     "text": [
      "Enter the hours: 9\n",
      "it will take only 4 month\n"
     ]
    }
   ],
   "source": [
    "study_hours = int(input(\"Enter the hours: \"))\n",
    "if study_hours < 2:\n",
    "    print(\"it may take more than 9 month\")\n",
    "elif study_hours > 5 and study_hours < 2 :\n",
    "    print(\"it will take minimum 6 month\")\n",
    "elif study_hours >=8:\n",
    "    print(\"it will take only 4 month\")\n",
    "else:\n",
    "    print(\"It will be the difficult to complete\")"
   ]
  },
  {
   "cell_type": "code",
   "execution_count": 56,
   "id": "1dde36ac",
   "metadata": {},
   "outputs": [
    {
     "name": "stdout",
     "output_type": "stream",
     "text": [
      "Enter the hours: 15\n",
      "it will take 2 month\n"
     ]
    }
   ],
   "source": [
    "study_hours = int(input(\"Enter the hours: \"))\n",
    "if study_hours <= 2:\n",
    "    print(\"it may take more than 9 month\")\n",
    "elif study_hours >= 5 and study_hours <= 2 :\n",
    "    print(\"it will take minimum 6 month\")\n",
    "elif study_hours >= 8 & study_hours <= 5:\n",
    "    print(\"it will take only 4 month\")\n",
    "elif study_hours >= 8:\n",
    "    print(\"it will take 2 month\")\n",
    "else:\n",
    "    print(\"It will be the difficult to complete\")"
   ]
  },
  {
   "cell_type": "code",
   "execution_count": 61,
   "id": "e9fcb4cc",
   "metadata": {},
   "outputs": [],
   "source": [
    "t=(1,2,3,5,4,6,8,7,9)"
   ]
  },
  {
   "cell_type": "code",
   "execution_count": 62,
   "id": "24f95870",
   "metadata": {},
   "outputs": [
    {
     "name": "stdout",
     "output_type": "stream",
     "text": [
      "1\n",
      "2\n",
      "3\n",
      "5\n",
      "4\n",
      "6\n",
      "8\n",
      "7\n",
      "9\n"
     ]
    }
   ],
   "source": [
    "for i in t:\n",
    "    print(i)"
   ]
  },
  {
   "cell_type": "code",
   "execution_count": 63,
   "id": "3c0bd260",
   "metadata": {},
   "outputs": [],
   "source": [
    "l = [1,2,3,4,5]\n",
    "l1=[]\n",
    "for i in l:\n",
    "    l1.append(i+2)"
   ]
  },
  {
   "cell_type": "code",
   "execution_count": 64,
   "id": "6047a24f",
   "metadata": {},
   "outputs": [
    {
     "name": "stdout",
     "output_type": "stream",
     "text": [
      "[3, 4, 5, 6, 7]\n"
     ]
    }
   ],
   "source": [
    "print(l1)"
   ]
  },
  {
   "cell_type": "code",
   "execution_count": 67,
   "id": "2680ccbd",
   "metadata": {},
   "outputs": [],
   "source": [
    "l = [1,2,3,44,\"jbhhd\",\"ram\",\"shyam\",4+4j,[\"aa\",\"ds\",45,78]]"
   ]
  },
  {
   "cell_type": "code",
   "execution_count": 68,
   "id": "27f8ff15",
   "metadata": {},
   "outputs": [
    {
     "name": "stdout",
     "output_type": "stream",
     "text": [
      "1\n",
      "2\n",
      "3\n",
      "44\n"
     ]
    }
   ],
   "source": [
    "for i in l:\n",
    "    if type(i) == int:\n",
    "        print(i)"
   ]
  },
  {
   "cell_type": "code",
   "execution_count": 76,
   "id": "d6cea419",
   "metadata": {},
   "outputs": [
    {
     "name": "stdout",
     "output_type": "stream",
     "text": [
      "1\n",
      "2\n",
      "3\n",
      "44\n",
      "aa\n",
      "ds\n",
      "45\n",
      "78\n"
     ]
    }
   ],
   "source": [
    "for i in l:\n",
    "    if type(i) == int:\n",
    "        print(i)\n",
    "    elif type(i) == list:\n",
    "        for j in i:\n",
    "            print(j)"
   ]
  },
  {
   "cell_type": "code",
   "execution_count": 73,
   "id": "f325b0a9",
   "metadata": {},
   "outputs": [],
   "source": [
    "t = (1,2,3,44,\"jbhhd\",\"ram\",\"shyam\",4+4j,44858,74,[\"aa\",\"ds\",45,78])"
   ]
  },
  {
   "cell_type": "code",
   "execution_count": 74,
   "id": "de3a6424",
   "metadata": {},
   "outputs": [
    {
     "name": "stdout",
     "output_type": "stream",
     "text": [
      "1\n",
      "2\n",
      "3\n",
      "44\n",
      "44858\n",
      "74\n"
     ]
    }
   ],
   "source": [
    "for i in t:\n",
    "    if type(i) == int:\n",
    "        print(i)"
   ]
  },
  {
   "cell_type": "code",
   "execution_count": 79,
   "id": "20d5f51d",
   "metadata": {},
   "outputs": [
    {
     "data": {
      "text/plain": [
       "[1, 2, 3, 44, 'jbhhd', 'ram', 'shyam', (4+4j), ['aa', 'ds', 45, 78]]"
      ]
     },
     "execution_count": 79,
     "metadata": {},
     "output_type": "execute_result"
    }
   ],
   "source": [
    "l"
   ]
  },
  {
   "cell_type": "code",
   "execution_count": 82,
   "id": "0f8d4768",
   "metadata": {},
   "outputs": [
    {
     "name": "stdout",
     "output_type": "stream",
     "text": [
      "0 index for the number 1\n",
      "1 index for the number 2\n",
      "2 index for the number 3\n",
      "3 index for the number 44\n",
      "4 index for the number jbhhd\n",
      "5 index for the number ram\n",
      "6 index for the number shyam\n",
      "7 index for the number (4+4j)\n",
      "8 index for the number ['aa', 'ds', 45, 78]\n"
     ]
    }
   ],
   "source": [
    "for i in range(len(l)):\n",
    "    print(i,\"index for the number\",l[i])"
   ]
  },
  {
   "cell_type": "code",
   "execution_count": null,
   "id": "bde8b393",
   "metadata": {},
   "outputs": [],
   "source": []
  }
 ],
 "metadata": {
  "kernelspec": {
   "display_name": "Python 3 (ipykernel)",
   "language": "python",
   "name": "python3"
  },
  "language_info": {
   "codemirror_mode": {
    "name": "ipython",
    "version": 3
   },
   "file_extension": ".py",
   "mimetype": "text/x-python",
   "name": "python",
   "nbconvert_exporter": "python",
   "pygments_lexer": "ipython3",
   "version": "3.11.5"
  }
 },
 "nbformat": 4,
 "nbformat_minor": 5
}
