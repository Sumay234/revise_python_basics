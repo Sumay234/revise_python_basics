{
 "cells": [
  {
   "cell_type": "code",
   "execution_count": 2,
   "id": "146cc0ad",
   "metadata": {},
   "outputs": [],
   "source": [
    "def test(a,b,c):\n",
    "    return a,b,c"
   ]
  },
  {
   "cell_type": "code",
   "execution_count": 3,
   "id": "124d1c36",
   "metadata": {},
   "outputs": [
    {
     "data": {
      "text/plain": [
       "(1, 2, 31)"
      ]
     },
     "execution_count": 3,
     "metadata": {},
     "output_type": "execute_result"
    }
   ],
   "source": [
    "test(1,2,31)"
   ]
  },
  {
   "cell_type": "code",
   "execution_count": 5,
   "id": "eccfce77",
   "metadata": {},
   "outputs": [
    {
     "data": {
      "text/plain": [
       "(4, 5, 'abcd')"
      ]
     },
     "execution_count": 5,
     "metadata": {},
     "output_type": "execute_result"
    }
   ],
   "source": [
    "test(4,5,\"abcd\")"
   ]
  },
  {
   "cell_type": "code",
   "execution_count": 6,
   "id": "d528b5c2",
   "metadata": {},
   "outputs": [],
   "source": [
    "def test1(*args):\n",
    "    return args"
   ]
  },
  {
   "cell_type": "code",
   "execution_count": 7,
   "id": "15f2c3d6",
   "metadata": {},
   "outputs": [
    {
     "data": {
      "text/plain": [
       "(1, 2, 5, 4, 7, 8, 9)"
      ]
     },
     "execution_count": 7,
     "metadata": {},
     "output_type": "execute_result"
    }
   ],
   "source": [
    "test1(1,2,5,4,7,8,9)"
   ]
  },
  {
   "cell_type": "code",
   "execution_count": 8,
   "id": "55d81315",
   "metadata": {},
   "outputs": [
    {
     "data": {
      "text/plain": [
       "('Hlo', 'How', 'are', 'you')"
      ]
     },
     "execution_count": 8,
     "metadata": {},
     "output_type": "execute_result"
    }
   ],
   "source": [
    "test1(\"Hlo\",\"How\",\"are\",\"you\",)"
   ]
  },
  {
   "cell_type": "code",
   "execution_count": 9,
   "id": "44b02f39",
   "metadata": {},
   "outputs": [],
   "source": [
    "def test2(*args,a):\n",
    "    return (args,a)"
   ]
  },
  {
   "cell_type": "code",
   "execution_count": 15,
   "id": "51a86982",
   "metadata": {},
   "outputs": [
    {
     "data": {
      "text/plain": [
       "((1, 2, 3, 4, 7, 8, 12), 5)"
      ]
     },
     "execution_count": 15,
     "metadata": {},
     "output_type": "execute_result"
    }
   ],
   "source": [
    "test2(1,2,3,4,7,8,12, a=5)"
   ]
  },
  {
   "cell_type": "code",
   "execution_count": 9,
   "id": "3663fe47",
   "metadata": {},
   "outputs": [],
   "source": [
    "def test(*args,a,b,c,d):\n",
    "    return args,a,b,c,d"
   ]
  },
  {
   "cell_type": "code",
   "execution_count": 10,
   "id": "a5bb41d9",
   "metadata": {},
   "outputs": [
    {
     "ename": "SyntaxError",
     "evalue": "positional argument follows keyword argument (2155416438.py, line 1)",
     "output_type": "error",
     "traceback": [
      "\u001b[1;36m  Cell \u001b[1;32mIn[10], line 1\u001b[1;36m\u001b[0m\n\u001b[1;33m    test(4,1,2,45,a=[1,2,3,4,[\"hi\",\"hlo\"]],b=\"How are you\",c=45,58,58,d=[1,2,3,4,5,6,7,8,9])\u001b[0m\n\u001b[1;37m                                                                                           ^\u001b[0m\n\u001b[1;31mSyntaxError\u001b[0m\u001b[1;31m:\u001b[0m positional argument follows keyword argument\n"
     ]
    }
   ],
   "source": [
    "test(4,1,2,45,a=[1,2,3,4,[\"hi\",\"hlo\"]],b=\"How are you\",c=45,58,58,d=[1,2,3,4,5,6,7,8,9])"
   ]
  },
  {
   "cell_type": "code",
   "execution_count": 11,
   "id": "086528b4",
   "metadata": {},
   "outputs": [
    {
     "data": {
      "text/plain": [
       "((4, 1, 2, 45),\n",
       " [1, 2, 3, 4, ['hi', 'hlo']],\n",
       " 'How are you',\n",
       " 45,\n",
       " [1, 2, 3, 4, 5, 6, 7, 8, 9])"
      ]
     },
     "execution_count": 11,
     "metadata": {},
     "output_type": "execute_result"
    }
   ],
   "source": [
    "test(4,1,2,45,a=[1,2,3,4,[\"hi\",\"hlo\"]],b=\"How are you\",c=45,d=[1,2,3,4,5,6,7,8,9])"
   ]
  },
  {
   "cell_type": "code",
   "execution_count": 12,
   "id": "8efea893",
   "metadata": {},
   "outputs": [
    {
     "ename": "SyntaxError",
     "evalue": "invalid syntax. Maybe you meant '==' or ':=' instead of '='? (820449963.py, line 1)",
     "output_type": "error",
     "traceback": [
      "\u001b[1;36m  Cell \u001b[1;32mIn[12], line 1\u001b[1;36m\u001b[0m\n\u001b[1;33m    l=(4,1,2,45,a=[1,2,3,4,[\"hi\",\"hlo\"]],b=\"How are you\",c=45,d=[1,2,3,4,5,6,7,8,9])\u001b[0m\n\u001b[1;37m                ^\u001b[0m\n\u001b[1;31mSyntaxError\u001b[0m\u001b[1;31m:\u001b[0m invalid syntax. Maybe you meant '==' or ':=' instead of '='?\n"
     ]
    }
   ],
   "source": [
    "l=(4,1,2,45,a=[1,2,3,4,[\"hi\",\"hlo\"]],b=\"How are you\",c=45,d=[1,2,3,4,5,6,7,8,9])"
   ]
  },
  {
   "cell_type": "code",
   "execution_count": 20,
   "id": "1f4f1ccd",
   "metadata": {},
   "outputs": [
    {
     "ename": "SyntaxError",
     "evalue": "invalid syntax. Maybe you meant '==' or ':=' instead of '='? (633927079.py, line 1)",
     "output_type": "error",
     "traceback": [
      "\u001b[1;36m  Cell \u001b[1;32mIn[20], line 1\u001b[1;36m\u001b[0m\n\u001b[1;33m    l=(4,1,2,45, a=[1,2,3,4,\"hi\",\"hlo\"],b=\"How are you\",c=45,d=[1,2,3,4,5,6,7,8,9])\u001b[0m\n\u001b[1;37m                 ^\u001b[0m\n\u001b[1;31mSyntaxError\u001b[0m\u001b[1;31m:\u001b[0m invalid syntax. Maybe you meant '==' or ':=' instead of '='?\n"
     ]
    }
   ],
   "source": [
    "l=(4,1,2,45, a=[1,2,3,4,\"hi\",\"hlo\"],b=\"How are you\",c=45,d=[1,2,3,4,5,6,7,8,9])"
   ]
  },
  {
   "cell_type": "code",
   "execution_count": 21,
   "id": "f2e6006d",
   "metadata": {},
   "outputs": [],
   "source": [
    "def test3(a, *args):\n",
    "    return a, args"
   ]
  },
  {
   "cell_type": "code",
   "execution_count": 24,
   "id": "51155c9b",
   "metadata": {},
   "outputs": [],
   "source": [
    "a=[\"sumay\",1,2,3,4,5,6]"
   ]
  },
  {
   "cell_type": "code",
   "execution_count": 25,
   "id": "2aca9a3a",
   "metadata": {},
   "outputs": [
    {
     "data": {
      "text/plain": [
       "(['sumay', 1, 2, 3, 4, 5, 6], ())"
      ]
     },
     "execution_count": 25,
     "metadata": {},
     "output_type": "execute_result"
    }
   ],
   "source": [
    "test3(a)"
   ]
  },
  {
   "cell_type": "code",
   "execution_count": 26,
   "id": "58bd58b3",
   "metadata": {},
   "outputs": [],
   "source": [
    "def test5(a, *args, b,c,d):\n",
    "    return a,args,b,c,d"
   ]
  },
  {
   "cell_type": "code",
   "execution_count": 28,
   "id": "71bdadbb",
   "metadata": {},
   "outputs": [
    {
     "data": {
      "text/plain": [
       "('fsds', (1, 2, 3, ['sumay', 'rahul', 'ajay'], 4), 5, 6, 9)"
      ]
     },
     "execution_count": 28,
     "metadata": {},
     "output_type": "execute_result"
    }
   ],
   "source": [
    "test5(\"fsds\",1,2,3,[\"sumay\",\"rahul\",\"ajay\"],4,b = 5,c=6,d=9)"
   ]
  },
  {
   "cell_type": "code",
   "execution_count": 33,
   "id": "9f685a85",
   "metadata": {},
   "outputs": [
    {
     "ename": "SyntaxError",
     "evalue": "invalid syntax. Maybe you meant '==' or ':=' instead of '='? (3139737501.py, line 1)",
     "output_type": "error",
     "traceback": [
      "\u001b[1;36m  Cell \u001b[1;32mIn[33], line 1\u001b[1;36m\u001b[0m\n\u001b[1;33m    q=(\"fsds\",1,2,3,[\"sumay\",\"rahul\",\"ajay\"],4,b = 5,c=6,d=9)\u001b[0m\n\u001b[1;37m                                               ^\u001b[0m\n\u001b[1;31mSyntaxError\u001b[0m\u001b[1;31m:\u001b[0m invalid syntax. Maybe you meant '==' or ':=' instead of '='?\n"
     ]
    }
   ],
   "source": [
    "q=(\"fsds\",1,2,3,[\"sumay\",\"rahul\",\"ajay\"],4,b = 5,c=6,d=9)"
   ]
  },
  {
   "cell_type": "code",
   "execution_count": 39,
   "id": "254eed99",
   "metadata": {},
   "outputs": [
    {
     "ename": "SyntaxError",
     "evalue": "invalid syntax. Maybe you meant '==' or ':=' instead of '='? (2424343081.py, line 1)",
     "output_type": "error",
     "traceback": [
      "\u001b[1;36m  Cell \u001b[1;32mIn[39], line 1\u001b[1;36m\u001b[0m\n\u001b[1;33m    q=[\"fsds\",1,2,3,[\"sumay\",\"rahul\",\"ajay\"],4,b = 5,c=6,d=9]\u001b[0m\n\u001b[1;37m                                               ^\u001b[0m\n\u001b[1;31mSyntaxError\u001b[0m\u001b[1;31m:\u001b[0m invalid syntax. Maybe you meant '==' or ':=' instead of '='?\n"
     ]
    }
   ],
   "source": [
    "q=[\"fsds\",1,2,3,[\"sumay\",\"rahul\",\"ajay\"],4,b = 5,c=6,d=9]"
   ]
  },
  {
   "cell_type": "code",
   "execution_count": 40,
   "id": "05ceaf98",
   "metadata": {},
   "outputs": [
    {
     "ename": "TypeError",
     "evalue": "test5() missing 3 required keyword-only arguments: 'b', 'c', and 'd'",
     "output_type": "error",
     "traceback": [
      "\u001b[1;31m---------------------------------------------------------------------------\u001b[0m",
      "\u001b[1;31mTypeError\u001b[0m                                 Traceback (most recent call last)",
      "Cell \u001b[1;32mIn[40], line 1\u001b[0m\n\u001b[1;32m----> 1\u001b[0m test5(q)\n",
      "\u001b[1;31mTypeError\u001b[0m: test5() missing 3 required keyword-only arguments: 'b', 'c', and 'd'"
     ]
    }
   ],
   "source": [
    "test5(q)"
   ]
  },
  {
   "cell_type": "code",
   "execution_count": 67,
   "id": "133e1c93",
   "metadata": {},
   "outputs": [],
   "source": [
    "def test6(*args):\n",
    "    l = []\n",
    "    for i in args:\n",
    "        if type(i) == list:\n",
    "            l.append(i)\n",
    "    return l"
   ]
  },
  {
   "cell_type": "code",
   "execution_count": 68,
   "id": "68d84d83",
   "metadata": {},
   "outputs": [
    {
     "data": {
      "text/plain": [
       "[[4, 5, 6, 7], ['Hello', 'How', 56]]"
      ]
     },
     "execution_count": 68,
     "metadata": {},
     "output_type": "execute_result"
    }
   ],
   "source": [
    "test6(1,2,3,[4,5,6,7],[\"Hello\",\"How\",56])"
   ]
  },
  {
   "cell_type": "code",
   "execution_count": 69,
   "id": "26e035c9",
   "metadata": {},
   "outputs": [
    {
     "data": {
      "text/plain": [
       "[[1, 2, 3, 4, 5], [6, 7, 8, 9, 10]]"
      ]
     },
     "execution_count": 69,
     "metadata": {},
     "output_type": "execute_result"
    }
   ],
   "source": [
    "test6([1,2,3,4,5],[6,7,8,9,10])"
   ]
  },
  {
   "cell_type": "code",
   "execution_count": 55,
   "id": "b4f51372",
   "metadata": {},
   "outputs": [],
   "source": [
    "def test6(*args):\n",
    "    a=[]\n",
    "    for i in args:\n",
    "        if type(i) == list:\n",
    "            for j in i:\n",
    "                if type(j) == list:\n",
    "                    a.append(j)\n",
    "    return j"
   ]
  },
  {
   "cell_type": "code",
   "execution_count": null,
   "id": "0d1ab425",
   "metadata": {},
   "outputs": [],
   "source": []
  }
 ],
 "metadata": {
  "kernelspec": {
   "display_name": "Python 3 (ipykernel)",
   "language": "python",
   "name": "python3"
  },
  "language_info": {
   "codemirror_mode": {
    "name": "ipython",
    "version": 3
   },
   "file_extension": ".py",
   "mimetype": "text/x-python",
   "name": "python",
   "nbconvert_exporter": "python",
   "pygments_lexer": "ipython3",
   "version": "3.11.5"
  }
 },
 "nbformat": 4,
 "nbformat_minor": 5
}
