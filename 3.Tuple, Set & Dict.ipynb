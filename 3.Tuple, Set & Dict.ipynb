{
 "cells": [
  {
   "cell_type": "code",
   "execution_count": 10,
   "id": "4a7324e5",
   "metadata": {},
   "outputs": [],
   "source": [
    "d={\"a\":12,\n",
    "  \"b\":14, \"c\":15,\"d\":16,\n",
    "  \"e\":17,\n",
    "   45:[1,2,3,4,5,6]\n",
    "  }"
   ]
  },
  {
   "cell_type": "code",
   "execution_count": 11,
   "id": "054fb413",
   "metadata": {},
   "outputs": [
    {
     "data": {
      "text/plain": [
       "{'a': 12, 'b': 14, 'c': 15, 'd': 16, 'e': 17, 45: [1, 2, 3, 4, 5, 6]}"
      ]
     },
     "execution_count": 11,
     "metadata": {},
     "output_type": "execute_result"
    }
   ],
   "source": [
    "d"
   ]
  },
  {
   "cell_type": "code",
   "execution_count": 3,
   "id": "b996a3cc",
   "metadata": {},
   "outputs": [
    {
     "data": {
      "text/plain": [
       "dict"
      ]
     },
     "execution_count": 3,
     "metadata": {},
     "output_type": "execute_result"
    }
   ],
   "source": [
    "type(d)"
   ]
  },
  {
   "cell_type": "code",
   "execution_count": 8,
   "id": "7d1eac2f",
   "metadata": {},
   "outputs": [
    {
     "data": {
      "text/plain": [
       "12"
      ]
     },
     "execution_count": 8,
     "metadata": {},
     "output_type": "execute_result"
    }
   ],
   "source": [
    "d[\"a\"]"
   ]
  },
  {
   "cell_type": "code",
   "execution_count": 12,
   "id": "60312dfb",
   "metadata": {},
   "outputs": [
    {
     "data": {
      "text/plain": [
       "[1, 2, 3, 4, 5, 6]"
      ]
     },
     "execution_count": 12,
     "metadata": {},
     "output_type": "execute_result"
    }
   ],
   "source": [
    "d[45]"
   ]
  },
  {
   "cell_type": "code",
   "execution_count": 15,
   "id": "c7ea50d0",
   "metadata": {},
   "outputs": [],
   "source": [
    "q={1,2,3,45,6} # this is a set"
   ]
  },
  {
   "cell_type": "code",
   "execution_count": 16,
   "id": "01963e4c",
   "metadata": {},
   "outputs": [
    {
     "data": {
      "text/plain": [
       "{1, 2, 3, 6, 45}"
      ]
     },
     "execution_count": 16,
     "metadata": {},
     "output_type": "execute_result"
    }
   ],
   "source": [
    "q"
   ]
  },
  {
   "cell_type": "code",
   "execution_count": 17,
   "id": "f03afd33",
   "metadata": {},
   "outputs": [],
   "source": [
    "e={\"Key1\":{1,2,3,4,5}}"
   ]
  },
  {
   "cell_type": "code",
   "execution_count": 18,
   "id": "2527d1a8",
   "metadata": {},
   "outputs": [
    {
     "data": {
      "text/plain": [
       "{'Key1': {1, 2, 3, 4, 5}}"
      ]
     },
     "execution_count": 18,
     "metadata": {},
     "output_type": "execute_result"
    }
   ],
   "source": [
    "e"
   ]
  },
  {
   "cell_type": "code",
   "execution_count": 19,
   "id": "7bf93bb8",
   "metadata": {},
   "outputs": [],
   "source": [
    "w={\"key2\":[\"abc\",\"def\",1,2,0.5]}"
   ]
  },
  {
   "cell_type": "code",
   "execution_count": 20,
   "id": "f7924325",
   "metadata": {},
   "outputs": [
    {
     "data": {
      "text/plain": [
       "{'key2': ['abc', 'def', 1, 2, 0.5]}"
      ]
     },
     "execution_count": 20,
     "metadata": {},
     "output_type": "execute_result"
    }
   ],
   "source": [
    "w"
   ]
  },
  {
   "cell_type": "code",
   "execution_count": 25,
   "id": "7396b212",
   "metadata": {},
   "outputs": [],
   "source": [
    "q={\"key1\":125,\"key2\":[1,2,3],\"key3\":\"Sumay\"}"
   ]
  },
  {
   "cell_type": "code",
   "execution_count": 22,
   "id": "4638d1bd",
   "metadata": {},
   "outputs": [
    {
     "data": {
      "text/plain": [
       "{'key1': 125, 'key2': [1, 2, 3], 'key3': 'Sumay'}"
      ]
     },
     "execution_count": 22,
     "metadata": {},
     "output_type": "execute_result"
    }
   ],
   "source": [
    "q"
   ]
  },
  {
   "cell_type": "code",
   "execution_count": 27,
   "id": "30958ba1",
   "metadata": {},
   "outputs": [
    {
     "data": {
      "text/plain": [
       "'Sumay'"
      ]
     },
     "execution_count": 27,
     "metadata": {},
     "output_type": "execute_result"
    }
   ],
   "source": [
    "q[\"key3\"]"
   ]
  },
  {
   "cell_type": "code",
   "execution_count": 23,
   "id": "a965fe8f",
   "metadata": {},
   "outputs": [],
   "source": [
    "q={\"key3\":\"sumay chatterjee\"}"
   ]
  },
  {
   "cell_type": "code",
   "execution_count": 26,
   "id": "4b60886b",
   "metadata": {},
   "outputs": [
    {
     "data": {
      "text/plain": [
       "{'key1': 125, 'key2': [1, 2, 3], 'key3': 'Sumay'}"
      ]
     },
     "execution_count": 26,
     "metadata": {},
     "output_type": "execute_result"
    }
   ],
   "source": [
    "q"
   ]
  },
  {
   "cell_type": "code",
   "execution_count": 28,
   "id": "96260006",
   "metadata": {},
   "outputs": [
    {
     "data": {
      "text/plain": [
       "{'key1': 125, 'key2': [1, 2, 3], 'key3': 'Sumay'}"
      ]
     },
     "execution_count": 28,
     "metadata": {},
     "output_type": "execute_result"
    }
   ],
   "source": [
    "q"
   ]
  },
  {
   "cell_type": "code",
   "execution_count": 29,
   "id": "4c77f293",
   "metadata": {},
   "outputs": [
    {
     "data": {
      "text/plain": [
       "[1, 2, 3]"
      ]
     },
     "execution_count": 29,
     "metadata": {},
     "output_type": "execute_result"
    }
   ],
   "source": [
    "q[\"key2\"]"
   ]
  },
  {
   "cell_type": "code",
   "execution_count": 30,
   "id": "b3f857a4",
   "metadata": {},
   "outputs": [
    {
     "data": {
      "text/plain": [
       "1"
      ]
     },
     "execution_count": 30,
     "metadata": {},
     "output_type": "execute_result"
    }
   ],
   "source": [
    "q[\"key2\"][0]"
   ]
  },
  {
   "cell_type": "code",
   "execution_count": 31,
   "id": "445c3d9c",
   "metadata": {},
   "outputs": [
    {
     "data": {
      "text/plain": [
       "3"
      ]
     },
     "execution_count": 31,
     "metadata": {},
     "output_type": "execute_result"
    }
   ],
   "source": [
    "q[\"key2\"][2]"
   ]
  },
  {
   "cell_type": "code",
   "execution_count": 33,
   "id": "a8136373",
   "metadata": {},
   "outputs": [],
   "source": [
    "a={\"aa\":123,\"b\":[1,2,3,4],\"c\":{\"a\":\"apple\",\"b\":\"ball\",1:11}}"
   ]
  },
  {
   "cell_type": "code",
   "execution_count": 34,
   "id": "5a8876be",
   "metadata": {},
   "outputs": [
    {
     "data": {
      "text/plain": [
       "{'aa': 123, 'b': [1, 2, 3, 4], 'c': {'a': 'apple', 'b': 'ball', 1: 11}}"
      ]
     },
     "execution_count": 34,
     "metadata": {},
     "output_type": "execute_result"
    }
   ],
   "source": [
    "a"
   ]
  },
  {
   "cell_type": "code",
   "execution_count": 36,
   "id": "6c5fca99",
   "metadata": {},
   "outputs": [
    {
     "data": {
      "text/plain": [
       "{'a': 'apple', 'b': 'ball', 1: 11}"
      ]
     },
     "execution_count": 36,
     "metadata": {},
     "output_type": "execute_result"
    }
   ],
   "source": [
    "a[\"c\"]"
   ]
  },
  {
   "cell_type": "code",
   "execution_count": 37,
   "id": "39b5447b",
   "metadata": {},
   "outputs": [
    {
     "ename": "KeyError",
     "evalue": "0",
     "output_type": "error",
     "traceback": [
      "\u001b[1;31m---------------------------------------------------------------------------\u001b[0m",
      "\u001b[1;31mKeyError\u001b[0m                                  Traceback (most recent call last)",
      "Cell \u001b[1;32mIn[37], line 1\u001b[0m\n\u001b[1;32m----> 1\u001b[0m a[\u001b[38;5;124m\"\u001b[39m\u001b[38;5;124mc\u001b[39m\u001b[38;5;124m\"\u001b[39m][\u001b[38;5;241m0\u001b[39m]\n",
      "\u001b[1;31mKeyError\u001b[0m: 0"
     ]
    }
   ],
   "source": [
    "a[\"c\"][0]"
   ]
  },
  {
   "cell_type": "code",
   "execution_count": 38,
   "id": "b23297a4",
   "metadata": {},
   "outputs": [
    {
     "data": {
      "text/plain": [
       "'apple'"
      ]
     },
     "execution_count": 38,
     "metadata": {},
     "output_type": "execute_result"
    }
   ],
   "source": [
    "a[\"c\"][\"a\"]"
   ]
  },
  {
   "cell_type": "code",
   "execution_count": 40,
   "id": "e6dd922e",
   "metadata": {},
   "outputs": [
    {
     "data": {
      "text/plain": [
       "dict_keys(['aa', 'b', 'c'])"
      ]
     },
     "execution_count": 40,
     "metadata": {},
     "output_type": "execute_result"
    }
   ],
   "source": [
    "a.keys()"
   ]
  },
  {
   "cell_type": "code",
   "execution_count": 41,
   "id": "5ff0b520",
   "metadata": {},
   "outputs": [
    {
     "data": {
      "text/plain": [
       "dict_values([123, [1, 2, 3, 4], {'a': 'apple', 'b': 'ball', 1: 11}])"
      ]
     },
     "execution_count": 41,
     "metadata": {},
     "output_type": "execute_result"
    }
   ],
   "source": [
    "a.values()"
   ]
  },
  {
   "cell_type": "code",
   "execution_count": 42,
   "id": "7da11a47",
   "metadata": {},
   "outputs": [
    {
     "data": {
      "text/plain": [
       "dict_items([('aa', 123), ('b', [1, 2, 3, 4]), ('c', {'a': 'apple', 'b': 'ball', 1: 11})])"
      ]
     },
     "execution_count": 42,
     "metadata": {},
     "output_type": "execute_result"
    }
   ],
   "source": [
    "a.items()"
   ]
  },
  {
   "cell_type": "code",
   "execution_count": 43,
   "id": "ec227832",
   "metadata": {},
   "outputs": [
    {
     "data": {
      "text/plain": [
       "{'aa': 123, 'b': [1, 2, 3, 4], 'c': {'a': 'apple', 'b': 'ball', 1: 11}}"
      ]
     },
     "execution_count": 43,
     "metadata": {},
     "output_type": "execute_result"
    }
   ],
   "source": [
    "a"
   ]
  },
  {
   "cell_type": "code",
   "execution_count": 44,
   "id": "2cb04e46",
   "metadata": {},
   "outputs": [],
   "source": [
    "a[\"key1\"] = \"sumay\""
   ]
  },
  {
   "cell_type": "code",
   "execution_count": 45,
   "id": "95ce40b1",
   "metadata": {},
   "outputs": [
    {
     "data": {
      "text/plain": [
       "{'aa': 123,\n",
       " 'b': [1, 2, 3, 4],\n",
       " 'c': {'a': 'apple', 'b': 'ball', 1: 11},\n",
       " 'key1': 'sumay'}"
      ]
     },
     "execution_count": 45,
     "metadata": {},
     "output_type": "execute_result"
    }
   ],
   "source": [
    "a"
   ]
  },
  {
   "cell_type": "code",
   "execution_count": 46,
   "id": "4ce4d174",
   "metadata": {},
   "outputs": [],
   "source": [
    "a[\"key2\",\"key3\"] = \"ram\",\"shayma\""
   ]
  },
  {
   "cell_type": "code",
   "execution_count": 47,
   "id": "84d516f1",
   "metadata": {},
   "outputs": [
    {
     "data": {
      "text/plain": [
       "{'aa': 123,\n",
       " 'b': [1, 2, 3, 4],\n",
       " 'c': {'a': 'apple', 'b': 'ball', 1: 11},\n",
       " 'key1': 'sumay',\n",
       " ('key2', 'key3'): ('ram', 'shayma')}"
      ]
     },
     "execution_count": 47,
     "metadata": {},
     "output_type": "execute_result"
    }
   ],
   "source": [
    "a"
   ]
  },
  {
   "cell_type": "code",
   "execution_count": 48,
   "id": "2601038a",
   "metadata": {},
   "outputs": [],
   "source": [
    "del a[\"aa\"]"
   ]
  },
  {
   "cell_type": "code",
   "execution_count": 49,
   "id": "f0623579",
   "metadata": {},
   "outputs": [
    {
     "data": {
      "text/plain": [
       "{'b': [1, 2, 3, 4],\n",
       " 'c': {'a': 'apple', 'b': 'ball', 1: 11},\n",
       " 'key1': 'sumay',\n",
       " ('key2', 'key3'): ('ram', 'shayma')}"
      ]
     },
     "execution_count": 49,
     "metadata": {},
     "output_type": "execute_result"
    }
   ],
   "source": [
    "a"
   ]
  },
  {
   "cell_type": "code",
   "execution_count": 50,
   "id": "0da24627",
   "metadata": {},
   "outputs": [
    {
     "data": {
      "text/plain": [
       "{'b': [1, 2, 3, 4],\n",
       " 'c': {'a': 'apple', 'b': 'ball', 1: 11},\n",
       " 'key1': 'sumay',\n",
       " ('key2', 'key3'): ('ram', 'shayma')}"
      ]
     },
     "execution_count": 50,
     "metadata": {},
     "output_type": "execute_result"
    }
   ],
   "source": [
    "a"
   ]
  },
  {
   "cell_type": "code",
   "execution_count": 52,
   "id": "943cf408",
   "metadata": {},
   "outputs": [],
   "source": [
    "b={\"kkey3\":1256,\n",
    "  \"key4\":78,\n",
    "   \"key5\":45\n",
    "  }"
   ]
  },
  {
   "cell_type": "code",
   "execution_count": 53,
   "id": "b3999109",
   "metadata": {},
   "outputs": [
    {
     "data": {
      "text/plain": [
       "{'b': [1, 2, 3, 4],\n",
       " 'c': {'a': 'apple', 'b': 'ball', 1: 11},\n",
       " 'key1': 'sumay',\n",
       " ('key2', 'key3'): ('ram', 'shayma')}"
      ]
     },
     "execution_count": 53,
     "metadata": {},
     "output_type": "execute_result"
    }
   ],
   "source": [
    "a"
   ]
  },
  {
   "cell_type": "code",
   "execution_count": 54,
   "id": "5dd34f49",
   "metadata": {},
   "outputs": [],
   "source": [
    "a.update(b)"
   ]
  },
  {
   "cell_type": "code",
   "execution_count": 55,
   "id": "1a69da47",
   "metadata": {},
   "outputs": [
    {
     "data": {
      "text/plain": [
       "{'b': [1, 2, 3, 4],\n",
       " 'c': {'a': 'apple', 'b': 'ball', 1: 11},\n",
       " 'key1': 'sumay',\n",
       " ('key2', 'key3'): ('ram', 'shayma'),\n",
       " 'kkey3': 1256,\n",
       " 'key4': 78,\n",
       " 'key5': 45}"
      ]
     },
     "execution_count": 55,
     "metadata": {},
     "output_type": "execute_result"
    }
   ],
   "source": [
    "a"
   ]
  },
  {
   "cell_type": "code",
   "execution_count": 56,
   "id": "0b57a900",
   "metadata": {},
   "outputs": [
    {
     "data": {
      "text/plain": [
       "{'kkey3': 1256, 'key4': 78, 'key5': 45}"
      ]
     },
     "execution_count": 56,
     "metadata": {},
     "output_type": "execute_result"
    }
   ],
   "source": [
    "b"
   ]
  },
  {
   "cell_type": "code",
   "execution_count": 57,
   "id": "acbb7ff5",
   "metadata": {},
   "outputs": [],
   "source": [
    "key=(\"name\",\"mobile_no\",\"email\")\n",
    "value=(\"sumay\",\"1111122\",\"sgsg@gmail.com\")"
   ]
  },
  {
   "cell_type": "code",
   "execution_count": 63,
   "id": "6376bca2",
   "metadata": {},
   "outputs": [],
   "source": [
    "r = b.fromkeys(key,value)"
   ]
  },
  {
   "cell_type": "code",
   "execution_count": 64,
   "id": "578d7779",
   "metadata": {},
   "outputs": [
    {
     "data": {
      "text/plain": [
       "{'kkey3': 1256, 'key4': 78, 'key5': 45}"
      ]
     },
     "execution_count": 64,
     "metadata": {},
     "output_type": "execute_result"
    }
   ],
   "source": [
    "b"
   ]
  },
  {
   "cell_type": "code",
   "execution_count": 65,
   "id": "c25231ed",
   "metadata": {},
   "outputs": [
    {
     "data": {
      "text/plain": [
       "{'name': ('sumay', '1111122', 'sgsg@gmail.com'),\n",
       " 'mobile_no': ('sumay', '1111122', 'sgsg@gmail.com'),\n",
       " 'email': ('sumay', '1111122', 'sgsg@gmail.com')}"
      ]
     },
     "execution_count": 65,
     "metadata": {},
     "output_type": "execute_result"
    }
   ],
   "source": [
    "r"
   ]
  },
  {
   "cell_type": "code",
   "execution_count": null,
   "id": "a37a8ec0",
   "metadata": {},
   "outputs": [],
   "source": []
  }
 ],
 "metadata": {
  "kernelspec": {
   "display_name": "Python 3 (ipykernel)",
   "language": "python",
   "name": "python3"
  },
  "language_info": {
   "codemirror_mode": {
    "name": "ipython",
    "version": 3
   },
   "file_extension": ".py",
   "mimetype": "text/x-python",
   "name": "python",
   "nbconvert_exporter": "python",
   "pygments_lexer": "ipython3",
   "version": "3.11.5"
  }
 },
 "nbformat": 4,
 "nbformat_minor": 5
}
